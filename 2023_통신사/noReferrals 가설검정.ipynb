{
 "cells": [
  {
   "attachments": {},
   "cell_type": "markdown",
   "metadata": {},
   "source": [
    "귀무가설 : ChurnLabel과 noReferrals 관련성이 없다.\n",
    "대립가설 : ChurnLabel과 noReferrals 관련성이 있다."
   ]
  },
  {
   "cell_type": "code",
   "execution_count": 1,
   "metadata": {},
   "outputs": [
    {
     "data": {
      "text/html": [
       "<div>\n",
       "<style scoped>\n",
       "    .dataframe tbody tr th:only-of-type {\n",
       "        vertical-align: middle;\n",
       "    }\n",
       "\n",
       "    .dataframe tbody tr th {\n",
       "        vertical-align: top;\n",
       "    }\n",
       "\n",
       "    .dataframe thead th {\n",
       "        text-align: right;\n",
       "    }\n",
       "</style>\n",
       "<table border=\"1\" class=\"dataframe\">\n",
       "  <thead>\n",
       "    <tr style=\"text-align: right;\">\n",
       "      <th>noReferrals</th>\n",
       "      <th>0</th>\n",
       "      <th>1</th>\n",
       "      <th>2</th>\n",
       "      <th>3</th>\n",
       "      <th>4</th>\n",
       "      <th>5</th>\n",
       "      <th>6</th>\n",
       "      <th>7</th>\n",
       "      <th>8</th>\n",
       "      <th>9</th>\n",
       "      <th>10</th>\n",
       "      <th>11</th>\n",
       "    </tr>\n",
       "    <tr>\n",
       "      <th>ChurnLabel</th>\n",
       "      <th></th>\n",
       "      <th></th>\n",
       "      <th></th>\n",
       "      <th></th>\n",
       "      <th></th>\n",
       "      <th></th>\n",
       "      <th></th>\n",
       "      <th></th>\n",
       "      <th></th>\n",
       "      <th></th>\n",
       "      <th></th>\n",
       "      <th></th>\n",
       "    </tr>\n",
       "  </thead>\n",
       "  <tbody>\n",
       "    <tr>\n",
       "      <th>No</th>\n",
       "      <td>2574</td>\n",
       "      <td>577</td>\n",
       "      <td>208</td>\n",
       "      <td>222</td>\n",
       "      <td>217</td>\n",
       "      <td>240</td>\n",
       "      <td>212</td>\n",
       "      <td>242</td>\n",
       "      <td>210</td>\n",
       "      <td>234</td>\n",
       "      <td>223</td>\n",
       "      <td>2</td>\n",
       "    </tr>\n",
       "    <tr>\n",
       "      <th>Yes</th>\n",
       "      <td>1108</td>\n",
       "      <td>481</td>\n",
       "      <td>26</td>\n",
       "      <td>31</td>\n",
       "      <td>16</td>\n",
       "      <td>21</td>\n",
       "      <td>7</td>\n",
       "      <td>6</td>\n",
       "      <td>2</td>\n",
       "      <td>4</td>\n",
       "      <td>0</td>\n",
       "      <td>0</td>\n",
       "    </tr>\n",
       "  </tbody>\n",
       "</table>\n",
       "</div>"
      ],
      "text/plain": [
       "noReferrals    0    1    2    3    4    5    6    7    8    9    10  11\n",
       "ChurnLabel                                                             \n",
       "No           2574  577  208  222  217  240  212  242  210  234  223   2\n",
       "Yes          1108  481   26   31   16   21    7    6    2    4    0   0"
      ]
     },
     "execution_count": 1,
     "metadata": {},
     "output_type": "execute_result"
    }
   ],
   "source": [
    "import pandas as pd\n",
    "import scipy.stats as stats\n",
    "df_raw = pd.read_csv(\"/Users/jh/Downloads/tele_customer_final.csv\")\n",
    "\n",
    "result = pd.crosstab(df_raw.ChurnLabel, df_raw.noReferrals)\n",
    "result"
   ]
  },
  {
   "cell_type": "code",
   "execution_count": 2,
   "metadata": {},
   "outputs": [
    {
     "data": {
      "text/plain": [
       "Chi2ContingencyResult(statistic=750.3795454207457, pvalue=8.465468196547445e-154, dof=11, expected_freq=array([[2.76887688e+03, 7.95619700e+02, 1.75968818e+02, 1.90256885e+02,\n",
       "        1.75216815e+02, 1.96272913e+02, 1.64688766e+02, 1.86496867e+02,\n",
       "        1.59424741e+02, 1.78976832e+02, 1.67696780e+02, 1.50400699e+00],\n",
       "       [9.13123124e+02, 2.62380300e+02, 5.80311817e+01, 6.27431153e+01,\n",
       "        5.77831852e+01, 6.47270873e+01, 5.43112342e+01, 6.15031327e+01,\n",
       "        5.25752586e+01, 5.90231677e+01, 5.53032202e+01, 4.95993006e-01]]))"
      ]
     },
     "execution_count": 2,
     "metadata": {},
     "output_type": "execute_result"
    }
   ],
   "source": [
    "stats.chi2_contingency(observed = result)"
   ]
  },
  {
   "attachments": {},
   "cell_type": "markdown",
   "metadata": {},
   "source": [
    "p-value 값이 0.000이므로 유의수준 0.05에서 ChurnLabel과 noReferrals 통계적으로 유의한 관련성이 있는 것으로 나타났다. 그러므로 귀무가설을 기각하고 대립가설을 채택한다"
   ]
  }
 ],
 "metadata": {
  "kernelspec": {
   "display_name": "data",
   "language": "python",
   "name": "python3"
  },
  "language_info": {
   "codemirror_mode": {
    "name": "ipython",
    "version": 3
   },
   "file_extension": ".py",
   "mimetype": "text/x-python",
   "name": "python",
   "nbconvert_exporter": "python",
   "pygments_lexer": "ipython3",
   "version": "3.9.6"
  },
  "orig_nbformat": 4
 },
 "nbformat": 4,
 "nbformat_minor": 2
}
