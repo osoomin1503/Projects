{
 "cells": [
  {
   "cell_type": "code",
   "execution_count": 2,
   "id": "f2a70ed1",
   "metadata": {},
   "outputs": [],
   "source": [
    "import numpy as np\n",
    "import pandas as pd\n",
    "import matplotlib.pyplot as plt\n",
    "import seaborn as sns\n",
    "\n",
    "%matplotlib inline\n",
    "\n",
    "df=pd.read_csv(\"data_006.csv\")"
   ]
  },
  {
   "cell_type": "code",
   "execution_count": null,
   "id": "07b6d0f2",
   "metadata": {},
   "outputs": [],
   "source": [
    "df= df.rename(columns={'P1':'성별','P2':'나이','P3':'은행활동고객','P4':'카드우수고객',\n",
    "                       'P5':'금투활동고객','P6':'라이프활동고객','P7':'결제계좌',\n",
    "                       'B167':'취급금액',\n",
    "                       'C1':'이용건수'})"
   ]
  },
  {
   "cell_type": "code",
   "execution_count": null,
   "id": "3f25283f",
   "metadata": {},
   "outputs": [],
   "source": [
    "df"
   ]
  },
  {
   "cell_type": "code",
   "execution_count": null,
   "id": "ef50aeb7",
   "metadata": {},
   "outputs": [],
   "source": [
    "def age(x):\n",
    "    if (x == \"20대_초\")|(x == \"20대_후\"):\n",
    "        return \"20대\"\n",
    "    elif (x == '30대_초')|(x == '30대_후'):\n",
    "        return '30대'\n",
    "    elif (x == '40대_초')|( x == '40대_후'):\n",
    "        return '40대'\n",
    "    elif (x == '50대_초')|( x == '50대_후'):\n",
    "        return '50대'\n",
    "    elif (x == '60대_초')|( x == '60대_후'):\n",
    "        return '60대'"
   ]
  },
  {
   "cell_type": "code",
   "execution_count": null,
   "id": "36096593",
   "metadata": {},
   "outputs": [],
   "source": [
    "df['나이대'] = df['나이'].apply(lambda x : age(x))"
   ]
  },
  {
   "cell_type": "code",
   "execution_count": null,
   "id": "e8d38d3b",
   "metadata": {
    "scrolled": false
   },
   "outputs": [],
   "source": [
    "df"
   ]
  },
  {
   "cell_type": "code",
   "execution_count": null,
   "id": "7ede7286",
   "metadata": {},
   "outputs": [],
   "source": []
  },
  {
   "cell_type": "markdown",
   "id": "54d121fa",
   "metadata": {},
   "source": [
    "## EDA"
   ]
  },
  {
   "cell_type": "code",
   "execution_count": null,
   "id": "bacae494",
   "metadata": {
    "scrolled": true
   },
   "outputs": [],
   "source": [
    "df11=df.iloc[:,7:174]\n",
    "df11=df11/1000\n",
    "\n",
    "df21=df.iloc[:,:7]\n",
    "df31=df.iloc[:,174:]\n",
    "\n",
    "df_ = pd.concat([df21,df11],axis=1)\n",
    "df = pd.concat([df_,df31],axis=1)\n",
    "df"
   ]
  },
  {
   "cell_type": "code",
   "execution_count": null,
   "id": "dc504a32",
   "metadata": {},
   "outputs": [],
   "source": []
  },
  {
   "cell_type": "code",
   "execution_count": null,
   "id": "5c77e7b0",
   "metadata": {},
   "outputs": [],
   "source": [
    "import warnings\n",
    "warnings.filterwarnings('ignore')\n",
    "\n",
    "import matplotlib.font_manager as fm\n",
    "\n",
    "import matplotlib.pylab as plt\n",
    "plt.rc(\"font\", family='NanumGothic')"
   ]
  },
  {
   "cell_type": "code",
   "execution_count": null,
   "id": "2c33b547",
   "metadata": {
    "scrolled": true
   },
   "outputs": [],
   "source": [
    "# 성별\n",
    "sns.countplot(x='성별', data=df, color=\"royalblue\")\n",
    "plt.show()\n",
    "\n",
    "# 라이프활동여부에 따른 성별별 취금금액 \n",
    "sns.barplot(data=df, y=\"취급금액\", x='성별', hue='라이프활동고객', color=\"royalblue\")\n",
    "plt.title('라이프활동여부에 따른 성별별 취금금액')\n",
    "plt.show()"
   ]
  },
  {
   "cell_type": "code",
   "execution_count": null,
   "id": "5c04ecdb",
   "metadata": {
    "scrolled": true
   },
   "outputs": [],
   "source": [
    "# 나이\n",
    "df1=df.sort_values(['나이'],ascending=True)\n",
    "\n",
    "sns.countplot(x='나이', data=df1, color=\"royalblue\")\n",
    "plt.show()\n",
    "\n",
    "# 라이프활동여부에 따른 나이대별 취금금액 \n",
    "sns.lineplot(data=df1, y=\"취급금액\", x='나이', hue='라이프활동고객')\n",
    "plt.title('라이프활동여부에 따른 나이별 취금금액')\n",
    "plt.show()"
   ]
  },
  {
   "cell_type": "code",
   "execution_count": null,
   "id": "d5a098e6",
   "metadata": {
    "scrolled": true
   },
   "outputs": [],
   "source": [
    "#나이대 \n",
    "sns.countplot(x='나이대', data=df1, color=\"royalblue\")\n",
    "plt.show()\n",
    "\n",
    "# 라이프활동여부에 따른 나이대별 취금금액 \n",
    "sns.lineplot(data=df1, y=\"취급금액\", x='나이대', hue='라이프활동고객',color=\"royalblue\")\n",
    "plt.title('라이프활동여부에 따른 나이별 취금금액')\n",
    "plt.show()"
   ]
  },
  {
   "cell_type": "code",
   "execution_count": null,
   "id": "66ecb09f",
   "metadata": {
    "scrolled": true
   },
   "outputs": [],
   "source": [
    "#은행활동고객\n",
    "sns.countplot(x='은행활동고객', data=df1, color=\"royalblue\")\n",
    "plt.show()\n",
    "\n",
    "# 라이프활동여부에 따른 나이대별 취금금액 \n",
    "sns.barplot(data=df1, y=\"취급금액\", x='은행활동고객', hue='라이프활동고객',color=\"royalblue\")\n",
    "plt.title('라이프활동여부에 따른 은행활동고객별 취금금액')\n",
    "plt.show()"
   ]
  },
  {
   "cell_type": "code",
   "execution_count": null,
   "id": "353f585f",
   "metadata": {
    "scrolled": true
   },
   "outputs": [],
   "source": [
    "#카드우수고객\n",
    "sns.countplot(x='카드우수고객', data=df1, color=\"royalblue\")\n",
    "plt.show()\n",
    "\n",
    "# 라이프활동여부에 따른 나이대별 취금금액 \n",
    "sns.barplot(data=df1, y=\"취급금액\", x='카드우수고객', hue='라이프활동고객', color=\"royalblue\")\n",
    "plt.title('라이프활동여부에 따른 카드우수고객별 취급금액')\n",
    "plt.show()"
   ]
  },
  {
   "cell_type": "code",
   "execution_count": null,
   "id": "b49a92f7",
   "metadata": {
    "scrolled": true
   },
   "outputs": [],
   "source": [
    "#금투활동고객\n",
    "\n",
    "sns.countplot(x='금투활동고객', data=df1, color=\"royalblue\")\n",
    "plt.show()\n",
    "\n",
    "# 라이프활동여부에 따른 나이대별 취금금액 \n",
    "sns.barplot(data=df1, y=\"취급금액\", x='금투활동고객', hue='라이프활동고객', color=\"royalblue\")\n",
    "plt.title('라이프활동여부에 따른 금투활동고객별 취급금액')\n",
    "plt.show()"
   ]
  },
  {
   "cell_type": "code",
   "execution_count": null,
   "id": "c7747765",
   "metadata": {},
   "outputs": [],
   "source": [
    "#라이프활동고객\n",
    "sns.countplot(x='라이프활동고객', data=df1, color=\"royalblue\")\n",
    "plt.show()"
   ]
  },
  {
   "cell_type": "code",
   "execution_count": null,
   "id": "8cb954f2",
   "metadata": {
    "scrolled": true
   },
   "outputs": [],
   "source": [
    "#결제계좌\n",
    "df2=df.sort_values(['결제계좌'],ascending=True)\n",
    "\n",
    "sns.countplot(x='결제계좌', data=df2, color=\"royalblue\")\n",
    "plt.show()\n",
    "\n",
    "# 라이프활동여부에 따른 나이대별 취금금액 \n",
    "sns.barplot(data=df2, y=\"취급금액\", x='결제계좌', hue='라이프활동고객', color=\"royalblue\")\n",
    "plt.title('라이프활동여부에 따른 결제은행별 취급금액')\n",
    "plt.show()"
   ]
  },
  {
   "cell_type": "code",
   "execution_count": null,
   "id": "f3d0b569",
   "metadata": {},
   "outputs": [],
   "source": []
  },
  {
   "cell_type": "code",
   "execution_count": null,
   "id": "5e8055e4",
   "metadata": {},
   "outputs": [],
   "source": [
    "# 새 변수 생성\n",
    "df['식료품']= df['B15']+df['B17']+df['B22']+df['B23']+df['B24']+df['B25']+df['B26']+df['B27']+df['B30']+df['B32']+df['B51']\n",
    "df['의류신발']= df['B13']+df['B14']+df['B16']+df['B21']+df['B63']+df['B64']+df['B68']+df['B69']+df['B70']\n",
    "df['생활용품']= df['B18']+df['B19']+df['B20']+df['B43']+df['B44']+df['B47']+df['B48']+df['B49']+df['B50']+df['B52']+df['B53']+df['B66']+df['B67']\n",
    "df['보건']= df['B139']+df['B140']+df['B141']+df['B142']+df['B143']+df['B144']+df['B145']+df['B146']+df['B147']+df['B148']+df['B149']\n",
    "\n",
    "df['운송']= df['B6']+df['B7']+df['B8']+df['B9']+df['B10']+df['B11']+df['B118']+df['B119']+df['B126']+df['B133']+df['B135']\n",
    "df['운송']= df['운송']+df['B157']+df['B158']+df['B159']+df['B160']+df['B161']+df['B162']+df['B163']+df['B164']+df['B165']+df['B166']\n",
    "\n",
    "df['정보통신']= df['B33']+df['B34']+df['B56']+df['B58']+df['B61']+df['B62']+df['B62']+df['B134']\n",
    "\n",
    "df['오락스포츠문화']= df['B54']+df['B55']+df['B57']+df['B77']+df['B78']+df['B79']+df['B80']+df['B81']+df['B82']+df['B83']+df['B84']\n",
    "df['오락스포츠문화']= df['오락스포츠문화']+df['B86']+df['B87']+df['B88']+df['B89']+df['B90']+df['B91']+df['B97']+df['B98']+df['B99']+df['B100']+df['B101']+df['B102']\n",
    "df['오락스포츠문화']= df['오락스포츠문화']+df['B103']+df['B104']+df['B105']+df['B120']+df['B121']+df['B122']+df['B123']+df['B137']+df['B138']\n",
    "\n",
    "df['교육']= df['B59']+df['B60']+df['B94']+df['B108']+df['B155']+df['B156']\n",
    "df['숙박']= df['B1']+df['B2']+df['B3']+df['B4']+df['B5']\n",
    "df['음식점']=df['B30']+df['B35']+df['B36']+df['B37']+df['B38']+df['B39']+df['B40']+df['B41']+df['B42']\n",
    "\n",
    "df['개인미용']= df['B72']+df['B73']+df['B74']+df['B75']+df['B76']+df['B95']+df['B96']+df['B152']+df['B153']+df['B154']\n",
    "df['사회복지']= df['B12']\n",
    "df['기타상품']= df['B28']+df['B29']+df['B92']+df['B93']+df['B109']+df['B110']+df['B111']+df['B112']+df['B113']+df['B114']+df['B115']+df['B116']\n",
    "df['기타상품']= df['기타상품']+df['B124']+df['B117']+df['B125']+df['B127']+df['B128']+df['B129']+df['B130']+df['B131']+df['B132']+df['B136']+df['B150']+df['B151']\n",
    "\n",
    "df['전체결제금액'] = df['식료품']+df['의류신발']+df['생활용품']+df['보건']+df['운송']+df['정보통신']+df['오락스포츠문화']\n",
    "df['전체결제금액'] = df['전체결제금액']+df['교육']+df['숙박']+df['음식점']+df['개인미용']+df['사회복지']+df['기타상품']\n",
    "'''\n",
    "df['']= df['B']+df['B']+df['B']+df['B']+df['B']+df['B']+df['B']+df['B']+df['B']+df['B']+df['B']+df['B']+df['B']\n",
    "\n",
    "'''\n"
   ]
  },
  {
   "cell_type": "code",
   "execution_count": null,
   "id": "c694c246",
   "metadata": {},
   "outputs": [],
   "source": [
    "df"
   ]
  },
  {
   "cell_type": "code",
   "execution_count": null,
   "id": "e1c06db5",
   "metadata": {},
   "outputs": [],
   "source": [
    "# 이상치 \n",
    "df = df[~(((df['금투활동고객'] == 0) & (df['결제계좌']=='A증권사')))]\n",
    "df = df[~(((df['은행활동고객'] == 0) & (df['결제계좌']=='A은행')))]\n",
    "df = df[~(((df['취급금액']< df['전체결제금액'])))]"
   ]
  },
  {
   "cell_type": "code",
   "execution_count": null,
   "id": "1a947cb7",
   "metadata": {},
   "outputs": [],
   "source": [
    "df"
   ]
  },
  {
   "cell_type": "code",
   "execution_count": null,
   "id": "a61e304a",
   "metadata": {
    "scrolled": false
   },
   "outputs": [],
   "source": [
    "# 사용처 제거(결제정보 제거)\n",
    "df11=df.iloc[:,:7]\n",
    "df12=df.iloc[:,-15:]\n",
    "df=pd.concat([df11,df12],axis=1)\n",
    "df"
   ]
  },
  {
   "cell_type": "code",
   "execution_count": null,
   "id": "7cd3d25e",
   "metadata": {},
   "outputs": [],
   "source": [
    "df1=df\n",
    "df2=df\n",
    "df3=df"
   ]
  },
  {
   "cell_type": "code",
   "execution_count": null,
   "id": "942923bd",
   "metadata": {},
   "outputs": [],
   "source": []
  },
  {
   "cell_type": "code",
   "execution_count": null,
   "id": "e59aa33b",
   "metadata": {
    "scrolled": true
   },
   "outputs": [],
   "source": [
    "df1"
   ]
  },
  {
   "cell_type": "markdown",
   "id": "125c764b",
   "metadata": {},
   "source": [
    "## 1. 피벗_전체_성별"
   ]
  },
  {
   "cell_type": "code",
   "execution_count": null,
   "id": "e55a108c",
   "metadata": {
    "scrolled": false
   },
   "outputs": [],
   "source": [
    "#성별 기준으로 업종별 결제금액의 합 (피벗테이블)\n",
    "piv1=pd.pivot_table(df1,columns='성별',values=['식료품','의류신발','생활용품','보건','운송','정보통신','오락스포츠문화',\n",
    "     '교육','숙박','음식점','개인미용','사회복지','기타상품','전체결제금액'],aggfunc=np.sum)\n",
    "piv1"
   ]
  },
  {
   "cell_type": "code",
   "execution_count": null,
   "id": "c7962085",
   "metadata": {},
   "outputs": [],
   "source": [
    "from scipy import stats\n",
    "\n",
    "# chi-squared test\n",
    "k = stats.chi2_contingency(piv1)\n",
    "print(k)\n",
    "#성별과 결제업종은 무관하다.의존하지 않는다. p-value<0.05\n",
    "\n",
    "# Kolmogorov-Smirnov Test\n",
    "kf,sf = stats.kstest(piv1['F'],'norm')\n",
    "print(\"Kolmogorov-Smirnov Test \\n여성 [ 통계량:{}, p-value:{} ]\".format(kf,sf))\n",
    "km,sm = stats.kstest(piv1['M'],'norm')\n",
    "print(\"남성 [ 통계량:{}, p-value:{} ]\".format(km,sm))\n",
    "\n",
    "# 두 성별 모두 정규분포를 따르지 않는다.\n",
    "\n",
    "\n",
    "# Shapiro-Wilk Test\n",
    "kf,sf = stats.shapiro(piv1['F'])\n",
    "print(\"\\nShapiro-Wilk Test\\n여성 [ 통계량:{},p-value:{} ]\".format(kf,sf))\n",
    "km,sm = stats.shapiro(piv1['M'])\n",
    "print(\"남성 [ 통계량:{},p-value:{} ]\".format(km,sm))\n",
    "\n",
    "# 두 성별 모두 정규분포를 따르지 않는다.\n"
   ]
  },
  {
   "cell_type": "code",
   "execution_count": null,
   "id": "5ef4cdce",
   "metadata": {},
   "outputs": [],
   "source": [
    "# 라이프 분리 없이 전체 스케일링\n",
    "\n",
    "from sklearn.preprocessing import MinMaxScaler\n",
    "scaler=MinMaxScaler()\n",
    "piv1[['F','M']]=scaler.fit_transform(piv1[['F','M']])\n",
    "piv1"
   ]
  },
  {
   "cell_type": "code",
   "execution_count": null,
   "id": "377e032a",
   "metadata": {},
   "outputs": [],
   "source": [
    "piv1=piv1[piv1['F']!=1]\n",
    "piv1.plot(kind='barh',stacked=True)\n",
    "plt.show()"
   ]
  },
  {
   "cell_type": "markdown",
   "id": "80794182",
   "metadata": {},
   "source": [
    "## 전체 고객 군집화"
   ]
  },
  {
   "cell_type": "code",
   "execution_count": null,
   "id": "a866ee5c",
   "metadata": {},
   "outputs": [],
   "source": [
    "# 다룰 데이터를 수치형으로\n",
    "\n",
    "df11=df1.iloc[:,0]\n",
    "df111=df1.iloc[:,8:]\n",
    "df1=pd.concat([df11,df111],axis=1)\n",
    "\n",
    "from sklearn.preprocessing import LabelEncoder\n",
    "df1['성별']=LabelEncoder().fit_transform(df1['성별'])\n",
    "df1"
   ]
  },
  {
   "cell_type": "code",
   "execution_count": null,
   "id": "bf3f8321",
   "metadata": {},
   "outputs": [],
   "source": [
    "df1.describe()"
   ]
  },
  {
   "cell_type": "code",
   "execution_count": null,
   "id": "6372e7f4",
   "metadata": {},
   "outputs": [],
   "source": [
    "# 군집화1\n",
    "# n_init 초기 중심점 샘플링 횟수, max_iter 반복횟수, algorithm 보통 auto로 지정, random_state\n",
    "\n",
    "from sklearn.cluster import KMeans\n",
    "cluster1= KMeans(n_clusters=3,n_init=3,max_iter=300,random_state=42,algorithm='auto').fit(df1)\n",
    "\n",
    "'''\n",
    "cluster_center=cluster.cluster_centers_ #각 군집의 중심점 결과 저장\n",
    "cluster_pred=cluster.predict(df)  # 예측군집 저장\n",
    "print(pd.DataFrame(cluster_center))\n",
    "print(cluster_pred)\n",
    "'''\n",
    "df1['cluster']=cluster1.labels_\n",
    "df1"
   ]
  },
  {
   "cell_type": "code",
   "execution_count": null,
   "id": "d8f37bc2",
   "metadata": {},
   "outputs": [],
   "source": [
    "scope=range(1,10)\n",
    "var_cluster=[]\n",
    "\n",
    "for i in scope:\n",
    "    model=KMeans(n_clusters=i).fit(df1)\n",
    "    var_cluster.append(model.inertia_)\n",
    "    \n",
    "plt.figure(figsize=(4,4))\n",
    "plt.plot(scope,var_cluster,'-o')\n",
    "plt.show()\n",
    "\n",
    "#3에서 군집내 분산이 빠르게 줄어듬을 알 수 있음."
   ]
  },
  {
   "cell_type": "code",
   "execution_count": null,
   "id": "b80df061",
   "metadata": {},
   "outputs": [],
   "source": []
  },
  {
   "cell_type": "code",
   "execution_count": null,
   "id": "5e73d8f6",
   "metadata": {},
   "outputs": [],
   "source": [
    "from sklearn.metrics import silhouette_samples, silhouette_score"
   ]
  },
  {
   "cell_type": "code",
   "execution_count": null,
   "id": "deb4d2d1",
   "metadata": {},
   "outputs": [],
   "source": []
  },
  {
   "cell_type": "markdown",
   "id": "819f57a5",
   "metadata": {},
   "source": [
    "## 2. 피벗_전체_나이"
   ]
  },
  {
   "cell_type": "code",
   "execution_count": null,
   "id": "04a4c7b6",
   "metadata": {},
   "outputs": [],
   "source": []
  },
  {
   "cell_type": "code",
   "execution_count": null,
   "id": "a771f437",
   "metadata": {},
   "outputs": [],
   "source": []
  },
  {
   "cell_type": "code",
   "execution_count": null,
   "id": "0b5f61f2",
   "metadata": {},
   "outputs": [],
   "source": [
    "# 라이프 분리 없이 전체 스케일링\n",
    "\n",
    "from sklearn.preprocessing import MinMaxScaler\n",
    "scaler=MinMaxScaler()\n",
    "df1[['식료품','의류신발','생활용품','보건','운송','정보통신','오락스포츠문화',\n",
    "     '교육','숙박','음식점','개인미용','사회복지','기타상품','전체결제금액']]=scaler.fit_transform(df1[['식료품','의류신발','생활용품','보건','운송','정보통신','오락스포츠문화',\n",
    "     '교육','숙박','음식점','개인미용','사회복지','기타상품','전체결제금액']])\n",
    "\n",
    "df1"
   ]
  },
  {
   "cell_type": "code",
   "execution_count": null,
   "id": "d7ad5500",
   "metadata": {},
   "outputs": [],
   "source": []
  },
  {
   "cell_type": "code",
   "execution_count": null,
   "id": "48f388d7",
   "metadata": {
    "scrolled": false
   },
   "outputs": [],
   "source": [
    "\n",
    "from sklearn.preprocessing import LabelEncoder\n",
    "df['성별']=LabelEncoder().fit_transform(df['성별'])\n",
    "df['나이대']=LabelEncoder().fit_transform(df['나이대'])\n",
    "df['나이']=LabelEncoder().fit_transform(df['나이'])\n",
    "df['결제계좌']=LabelEncoder().fit_transform(df['결제계좌'])\n",
    "\n",
    "#df1=df.drop(['나이'],axis=1)\n",
    "\n",
    "df"
   ]
  },
  {
   "cell_type": "code",
   "execution_count": null,
   "id": "672d4df6",
   "metadata": {},
   "outputs": [],
   "source": [
    "df12=df"
   ]
  },
  {
   "cell_type": "code",
   "execution_count": null,
   "id": "0bd0f592",
   "metadata": {},
   "outputs": [],
   "source": []
  },
  {
   "cell_type": "code",
   "execution_count": null,
   "id": "c397ef99",
   "metadata": {},
   "outputs": [],
   "source": []
  },
  {
   "cell_type": "markdown",
   "id": "2aa1ba3a",
   "metadata": {},
   "source": [
    "## 라이프 고객 군집화"
   ]
  },
  {
   "cell_type": "code",
   "execution_count": null,
   "id": "ea91e90e",
   "metadata": {},
   "outputs": [],
   "source": [
    "#라이프 고객\n",
    "\n",
    "df_0=df[df['라이프활동고객']==0]\n",
    "df_0"
   ]
  },
  {
   "cell_type": "code",
   "execution_count": null,
   "id": "39cac981",
   "metadata": {},
   "outputs": [],
   "source": [
    "from sklearn.preprocessing import MinMaxScaler\n",
    "scaler=MinMaxScaler()\n",
    "df_0[['식료품','의류신발','생활용품','보건','운송','정보통신','오락스포츠문화',\n",
    "     '교육','숙박','음식점','개인미용','사회복지','기타상품','전체결제금액']]=scaler.fit_transform(df_0[['식료품','의류신발','생활용품','보건','운송','정보통신','오락스포츠문화',\n",
    "     '교육','숙박','음식점','개인미용','사회복지','기타상품','전체결제금액']])\n",
    "\n",
    "df_0"
   ]
  },
  {
   "cell_type": "code",
   "execution_count": null,
   "id": "ca8e2a25",
   "metadata": {},
   "outputs": [],
   "source": []
  },
  {
   "cell_type": "code",
   "execution_count": null,
   "id": "11e91274",
   "metadata": {},
   "outputs": [],
   "source": []
  },
  {
   "cell_type": "code",
   "execution_count": null,
   "id": "8a186ab1",
   "metadata": {},
   "outputs": [],
   "source": [
    "#라이프 비고객\n",
    "\n",
    "df_1=df[df['라이프활동고객']==1]\n",
    "df_1"
   ]
  },
  {
   "cell_type": "code",
   "execution_count": null,
   "id": "8c978038",
   "metadata": {},
   "outputs": [],
   "source": [
    "from sklearn.preprocessing import MinMaxScaler\n",
    "scaler=MinMaxScaler()\n",
    "df_1[['식료품','의류신발','생활용품','보건','운송','정보통신','오락스포츠문화',\n",
    "     '교육','숙박','음식점','개인미용','사회복지','기타상품','전체결제금액']]=scaler.fit_transform(df_1[['식료품','의류신발','생활용품','보건','운송','정보통신','오락스포츠문화',\n",
    "     '교육','숙박','음식점','개인미용','사회복지','기타상품','전체결제금액']])\n",
    "\n",
    "df_1"
   ]
  },
  {
   "cell_type": "code",
   "execution_count": null,
   "id": "be03d3da",
   "metadata": {},
   "outputs": [],
   "source": []
  },
  {
   "cell_type": "code",
   "execution_count": null,
   "id": "02404a44",
   "metadata": {},
   "outputs": [],
   "source": []
  },
  {
   "cell_type": "code",
   "execution_count": null,
   "id": "81ccc310",
   "metadata": {},
   "outputs": [],
   "source": []
  },
  {
   "cell_type": "code",
   "execution_count": null,
   "id": "2e6d129d",
   "metadata": {},
   "outputs": [],
   "source": []
  },
  {
   "cell_type": "code",
   "execution_count": null,
   "id": "2c354e79",
   "metadata": {},
   "outputs": [],
   "source": [
    "#여기 잘 모름\n",
    "#kmeans 파라미터 : n_init 초기 중심점 샘플링 횟수, max_iter 반복횟수, algorithm 보통 auto로 지정, random_state\n",
    "\n",
    "cluster= KMeans(n_clusters=3,n_init=3,max_iter=300,random_state=42,algorithm='auto').fit(df)\n",
    "\n",
    "'''\n",
    "cluster_center=cluster.cluster_centers_ #각 군집의 중심점 결과 저장\n",
    "cluster_pred=cluster.predict(df)  # 예측군집 저장\n",
    "print(pd.DataFrame(cluster_center))\n",
    "print(cluster_pred)\n",
    "'''\n",
    "df['cluster']=cluster_pred"
   ]
  },
  {
   "cell_type": "code",
   "execution_count": null,
   "id": "27d96fff",
   "metadata": {},
   "outputs": [],
   "source": []
  },
  {
   "cell_type": "code",
   "execution_count": null,
   "id": "b3629f8a",
   "metadata": {},
   "outputs": [],
   "source": []
  },
  {
   "cell_type": "code",
   "execution_count": null,
   "id": "8dd15565",
   "metadata": {},
   "outputs": [],
   "source": []
  },
  {
   "cell_type": "code",
   "execution_count": null,
   "id": "3c25737d",
   "metadata": {},
   "outputs": [],
   "source": []
  },
  {
   "cell_type": "code",
   "execution_count": null,
   "id": "c46fc63d",
   "metadata": {},
   "outputs": [],
   "source": [
    "df_0.describe()"
   ]
  },
  {
   "cell_type": "code",
   "execution_count": null,
   "id": "ff039698",
   "metadata": {},
   "outputs": [],
   "source": [
    "# 다룰 데이터를 수치형으로\n",
    "df_01=df_0.iloc[:,1]\n",
    "df_011 = df_0.iloc[:,-1]\n",
    "df_0=pd.concat([df_01,df_011],axis=1)"
   ]
  },
  {
   "cell_type": "code",
   "execution_count": null,
   "id": "fe2c86fe",
   "metadata": {},
   "outputs": [],
   "source": [
    "# 결제액의 min, max 범위가 커서 업종 스케일링 진행\n",
    "from sklearn.preprocessing import LabelEncoder\n",
    "df_0['나이']=LabelEncoder().fit_transform(df_0['나이'])\n",
    "df_0.reset_index(drop=True,inplace=True)\n",
    "\n",
    "from sklearn.preprocessing import MinMaxScaler\n",
    "scaler=MinMaxScaler()\n",
    "df_0[['전체결제금액']]=scaler.fit_transform(df_0[['전체결제금액']])\n",
    "\n",
    "df_0.drop(['나이'],axis=1,inplace=True)"
   ]
  },
  {
   "cell_type": "code",
   "execution_count": null,
   "id": "a29e063e",
   "metadata": {},
   "outputs": [],
   "source": [
    "scope=range(1,10)\n",
    "var_cluster=[]\n",
    "\n",
    "for i in scope:\n",
    "    model=KMeans(n_clusters=i,n_init=3,max_iter=300,\n",
    "                 random_state=42,algorithm='auto').fit(df_0)\n",
    "    var_cluster.append(model.inertia_)\n",
    "    \n",
    "plt.figure(figsize=(4,4))\n",
    "plt.plot(scope,var_cluster,'-o')\n",
    "plt.show()"
   ]
  },
  {
   "cell_type": "code",
   "execution_count": null,
   "id": "eb88abcb",
   "metadata": {},
   "outputs": [],
   "source": [
    "k = 4\n",
    "from sklearn.cluster import KMeans\n",
    "cluster1= KMeans(n_clusters=k,n_init=3,max_iter=300,\n",
    "                 random_state=42,algorithm='auto').fit(df_0)\n",
    "\n",
    "df_0['cluster']=cluster1.labels_\n",
    "df_0"
   ]
  },
  {
   "cell_type": "code",
   "execution_count": null,
   "id": "ad1c848b",
   "metadata": {},
   "outputs": [],
   "source": [
    "data = list(range(0, 363626, 1))\n",
    "col = pd.DataFrame(data)\n",
    "df_0['number']=col"
   ]
  },
  {
   "cell_type": "code",
   "execution_count": null,
   "id": "21f3c49f",
   "metadata": {},
   "outputs": [],
   "source": [
    "import matplotlib.pyplot as plt\n",
    "plt.figure(figsize = (5,5))\n",
    "\n",
    "k=4\n",
    "for i in range(k):\n",
    "    plt.scatter(df_0.loc[df_0['cluster'] == i, 'number'], \n",
    "                df_0.loc[df_0['cluster'] == i, '전체결제금액'], \n",
    "                label = 'cluster ' + str(i))\n",
    "\n",
    "plt.legend()\n",
    "plt.title('K = %d results'%k , size = 15)\n",
    "plt.xlabel('number', size = 12)\n",
    "plt.ylabel('전체결제금액', size = 12)\n",
    "plt.show()"
   ]
  },
  {
   "cell_type": "code",
   "execution_count": null,
   "id": "70f1a4e9",
   "metadata": {},
   "outputs": [],
   "source": [
    "df_0.groupby('cluster').count()"
   ]
  },
  {
   "cell_type": "code",
   "execution_count": null,
   "id": "5e1170fb",
   "metadata": {},
   "outputs": [],
   "source": [
    "m = pd.DataFrame(df_0.groupby('cluster')['전체결제금액'].mean())\n",
    "m['cluster']=[0,1,2,3]\n",
    "plt.figure(figsize = (5,5))\n",
    "sns.barplot(data=m, y=\"전체결제금액\", x='cluster',hue='cluster')\n",
    "plt.title('라이프 비고객의 전체결제금액 기반 군집화와 군집들의 평균')\n",
    "plt.show()"
   ]
  },
  {
   "cell_type": "code",
   "execution_count": null,
   "id": "2323887c",
   "metadata": {},
   "outputs": [],
   "source": [
    "m"
   ]
  },
  {
   "cell_type": "code",
   "execution_count": null,
   "id": "3bb2d125",
   "metadata": {},
   "outputs": [],
   "source": [
    "#라이프 비고객\n",
    "df_copy0=df[df['라이프활동고객']==0]\n",
    "\n",
    "# 다룰 데이터를 수치형으로\n",
    "\n",
    "df01=df_copy0.iloc[:,:7]\n",
    "df011=df_copy0.iloc[:,-14:]\n",
    "df012=df_copy0.iloc[:,-14:]\n",
    "\n",
    "import numpy as np\n",
    "df012 = df012.replace(0,np.nan)\n",
    "\n",
    "df_copy0=pd.concat([df01,df011],axis=1)\n",
    "df_copy0_ = pd.concat([df01,df012],axis=1)\n",
    "\n",
    "df_copy0.reset_index(drop=True,inplace = True)\n",
    "df_copy0['cluster']= df_0['cluster']\n",
    "\n",
    "\n",
    "df_copy0_.reset_index(drop=True,inplace = True)\n",
    "df_copy0_['cluster']= df_0['cluster']"
   ]
  },
  {
   "cell_type": "code",
   "execution_count": null,
   "id": "22e22411",
   "metadata": {},
   "outputs": [],
   "source": [
    "df_copy0_"
   ]
  },
  {
   "cell_type": "code",
   "execution_count": null,
   "id": "e9cd7002",
   "metadata": {},
   "outputs": [],
   "source": [
    "df_copy0_['나이대'] = df_copy0_['나이'].apply(lambda x : age(x))"
   ]
  },
  {
   "cell_type": "code",
   "execution_count": null,
   "id": "75073471",
   "metadata": {},
   "outputs": [],
   "source": [
    "# 비고객 군집 분리\n",
    "df_copy00 = df_copy0[df_copy0['cluster']==0]\n",
    "df_copy01 = df_copy0[df_copy0['cluster']==1]\n",
    "df_copy02 = df_copy0[df_copy0['cluster']==2]\n",
    "df_copy03 = df_copy0[df_copy0['cluster']==3]"
   ]
  },
  {
   "cell_type": "code",
   "execution_count": null,
   "id": "92b2b5da",
   "metadata": {},
   "outputs": [],
   "source": [
    "# 비고객 군집 분리/ NaN 파일\n",
    "df_copy000 = df_copy0_[df_copy0_['cluster']==0]\n",
    "df_copy001 = df_copy0_[df_copy0_['cluster']==1]\n",
    "df_copy002 = df_copy0_[df_copy0_['cluster']==2]\n",
    "df_copy003 = df_copy0_[df_copy0_['cluster']==3]"
   ]
  },
  {
   "cell_type": "code",
   "execution_count": null,
   "id": "466c2760",
   "metadata": {},
   "outputs": [],
   "source": [
    "df_copy000.groupby('cluster')['식료품'].mean()"
   ]
  },
  {
   "cell_type": "code",
   "execution_count": null,
   "id": "dd3543c3",
   "metadata": {},
   "outputs": [],
   "source": []
  },
  {
   "cell_type": "code",
   "execution_count": null,
   "id": "3a2141c6",
   "metadata": {},
   "outputs": [],
   "source": [
    "#최상위 군집 df_copy002\n",
    "m = pd.DataFrame(df_copy002.groupby(['나이대','결제계좌'])['식료품','의류신발','생활용품','보건','운송','정보통신','오락스포츠문화',\n",
    "     '교육','숙박','음식점','개인미용','사회복지','기타상품'].mean())\n",
    "#m['결제계좌']=['A은행','A증권사','B은행','B증권사']\n",
    "m=np.transpose(m)\n",
    "m['업종']=['식료품','의류신발','생활용품','보건','운송','정보통신','오락스포츠문화','교육','숙박','음식점','개인미용','사회복지','기타상품']\n",
    "m.set_index('업종',inplace=True)\n",
    "m.plot(kind='bar',figsize = (16,12))"
   ]
  },
  {
   "cell_type": "code",
   "execution_count": null,
   "id": "2889c7e3",
   "metadata": {},
   "outputs": [],
   "source": [
    "m.drop(['보건','정보통신','사회복지'],axis=0,inplace=True)\n",
    "m.plot(kind='bar',figsize = (12,8))"
   ]
  },
  {
   "cell_type": "code",
   "execution_count": null,
   "id": "344c4d01",
   "metadata": {},
   "outputs": [],
   "source": [
    "m.drop(['의류신발'],axis=0,inplace=True)\n",
    "m.plot(kind='bar',figsize = (12,8))"
   ]
  },
  {
   "cell_type": "code",
   "execution_count": null,
   "id": "d232f613",
   "metadata": {},
   "outputs": [],
   "source": []
  },
  {
   "cell_type": "code",
   "execution_count": null,
   "id": "2916a027",
   "metadata": {},
   "outputs": [],
   "source": [
    "#최상위 군집 df_copy000\n",
    "m = pd.DataFrame(df_copy000.groupby(['나이대','결제계좌'])['식료품','의류신발','생활용품','보건','운송','정보통신','오락스포츠문화',\n",
    "     '교육','숙박','음식점','개인미용','사회복지','기타상품'].mean())\n",
    "#m['결제계좌']=['A은행','A증권사','B은행','B증권사']\n",
    "m=np.transpose(m)\n",
    "m['업종']=['식료품','의류신발','생활용품','보건','운송','정보통신','오락스포츠문화','교육','숙박','음식점','개인미용','사회복지','기타상품']\n",
    "m.set_index('업종',inplace=True)\n",
    "m.plot(kind='bar',figsize = (16,12))"
   ]
  },
  {
   "cell_type": "code",
   "execution_count": null,
   "id": "020f7d7c",
   "metadata": {},
   "outputs": [],
   "source": [
    "m.drop(['정보통신','교육','사회복지'],axis=0,inplace=True)\n",
    "m.plot(kind='bar',figsize = (12,8))"
   ]
  },
  {
   "cell_type": "code",
   "execution_count": null,
   "id": "6c04629a",
   "metadata": {},
   "outputs": [],
   "source": []
  },
  {
   "cell_type": "code",
   "execution_count": null,
   "id": "0432b2f5",
   "metadata": {},
   "outputs": [],
   "source": []
  },
  {
   "cell_type": "code",
   "execution_count": null,
   "id": "12ae76e4",
   "metadata": {},
   "outputs": [],
   "source": []
  },
  {
   "cell_type": "code",
   "execution_count": null,
   "id": "522ffa81",
   "metadata": {},
   "outputs": [],
   "source": []
  }
 ],
 "metadata": {
  "kernelspec": {
   "display_name": "Python 3 (ipykernel)",
   "language": "python",
   "name": "python3"
  },
  "language_info": {
   "codemirror_mode": {
    "name": "ipython",
    "version": 3
   },
   "file_extension": ".py",
   "mimetype": "text/x-python",
   "name": "python",
   "nbconvert_exporter": "python",
   "pygments_lexer": "ipython3",
   "version": "3.9.13"
  }
 },
 "nbformat": 4,
 "nbformat_minor": 5
}
